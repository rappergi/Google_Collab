{
  "nbformat": 4,
  "nbformat_minor": 0,
  "metadata": {
    "colab": {
      "name": "Colab Chrome RD with CrossOver by fb.com/thuong.hai.581.ipynb",
      "provenance": [],
      "collapsed_sections": [],
      "include_colab_link": true
    },
    "kernelspec": {
      "name": "python3",
      "display_name": "Python 3"
    }
  },
  "cells": [
    {
      "cell_type": "markdown",
      "metadata": {
        "id": "view-in-github",
        "colab_type": "text"
      },
      "source": [
        "<a href=\"https://colab.research.google.com/github/rappergi/Google_Collab/blob/main/Colab_Chrome_RD_with_CrossOver.ipynb\" target=\"_parent\"><img src=\"https://colab.research.google.com/assets/colab-badge.svg\" alt=\"Open In Colab\"/></a>"
      ]
    },
    {
      "cell_type": "markdown",
      "metadata": {
        "id": "WiCtBFIJAkwd"
      },
      "source": [
        "Colab RDP : Remote Desktop to Colab Instance use Google Remote Desktop \n",
        "\n",
        "     Warning : IF U USE IT TO MINNING U WILL GET BANNED. \n",
        " **Mật khẩu người dùng là : root **\n",
        "\n",
        " **Có thể mất đến 4-5 phút để cài đặt**\n",
        " + XFCE4 Desktop Environment\n",
        " + CrossOver (Run Windows Appication)\n",
        "\n",
        " **How to use CrossOver: Launch Terminal, type sudo su, type password root, drag Crossover  into Terminal and enter (CrossOver need sudo permission to run)* \n",
        " + Chrome and Other tools\n",
        " + Obs-studio (Live-streaming)\n",
        " + VLC Media Player\n",
        "\n",
        "Google Colab có thể cung cấp cho bạn Phiên bản với 12GB RAM và GPU trong 12 giờ (Tối đa). \n",
        "Bất kỳ ai cũng có thể sử dụng nó để thực hiện các Nhiệm vụ nặng nề\n",
        "\n"
      ]
    },
    {
      "cell_type": "markdown",
      "metadata": {
        "id": "RtoY5SKzwTA7"
      },
      "source": [
        "For GPU: By default colab running without GPU, to enable go to Runtime and change runtime to GPU. I test Steam PC version using Crossover and try install and play game, run as well."
      ]
    },
    {
      "cell_type": "code",
      "metadata": {
        "id": "t7F_iIOpAnTl",
        "cellView": "form"
      },
      "source": [
        "#@title **LINK UPDATED! Feel free to  use ! First:**\n",
        "#@markdown Play it and wait until finished!\n",
        "! wget https://raw.githubusercontent.com/rappergi/Google_Collab/main/CRD_COLAB_EXE.sh &> /dev/null\n",
        "! chmod +x CRD_COLAB_EXE.sh\n",
        "! ./CRD_COLAB_EXE.sh\n",
        "! sleep 43200"
      ],
      "execution_count": null,
      "outputs": []
    },
    {
      "cell_type": "code",
      "metadata": {
        "cellView": "form",
        "id": "JLHA-zydc-gV"
      },
      "source": [
        "#@title **SECOND (Optional):**\r\n",
        "#@markdown Anti shutdown colab (play and keep this colab tab open):\r\n",
        "! sleep 43200"
      ],
      "execution_count": null,
      "outputs": []
    }
  ]
}