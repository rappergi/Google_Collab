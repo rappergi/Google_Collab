{
  "nbformat": 4,
  "nbformat_minor": 0,
  "metadata": {
    "colab": {
      "name": "Colab Chrome RD with CrossOver by fb.com/thuong.hai.581.ipynb",
      "provenance": [],
      "collapsed_sections": [],
      "include_colab_link": true
    },
    "kernelspec": {
      "name": "python3",
      "display_name": "Python 3"
    }
  },
  "cells": [
    {
      "cell_type": "markdown",
      "metadata": {
        "id": "view-in-github",
        "colab_type": "text"
      },
      "source": [
        "<a href=\"https://colab.research.google.com/github/rappergi/Google_Collab/blob/main/Colab_Chrome_RD_with_CrossOver.ipynb\" target=\"_parent\"><img src=\"https://colab.research.google.com/assets/colab-badge.svg\" alt=\"Open In Colab\"/></a>"
      ]
    },
    {
      "cell_type": "markdown",
      "metadata": {
        "id": "WiCtBFIJAkwd"
      },
      "source": [
        "Colab RDP : Remote Desktop to Colab Instance use Google Remote Desktop \n",
        "\n",
        "     Warning : IF U USE IT TO MINNING U WILL GET BANNED. \n",
        " **User Password is root**\n",
        "\n",
        " **It can take up to 4-5 min for installation**\n",
        " + XFCE4 Desktop Environment\n",
        " + CrossOver (Run Windows Appication)\n",
        "\n",
        " **How to use CrossOver: Launch Terminal, type sudo su, type password root, drag Crossover  into Terminal and enter (CrossOver need sudo permission to run)* \n",
        " + Chrome and Other tools\n",
        " + Obs-studio (Live-streaming)\n",
        " + VLC Media Player\n",
        "\n",
        "Google Colab can give you Instance with 12GB of RAM and GPU for 12 hours (Max.). Anyone can use it to perform Heavy Tasks\n",
        "\n"
      ]
    },
    {
      "cell_type": "markdown",
      "metadata": {
        "id": "RtoY5SKzwTA7"
      },
      "source": [
        "For GPU: By default colab running without GPU, to enable go to Runtime and change runtime to GPU. I test Steam PC version using Crossover and try install and play game, run as well."
      ]
    },
    {
      "cell_type": "code",
      "metadata": {
        "colab": {
          "base_uri": "https://localhost:8080/"
        },
        "id": "t7F_iIOpAnTl",
        "cellView": "form",
        "outputId": "ea3abb46-d7f4-4fac-f97f-71ea733a8b21"
      },
      "source": [
        "#@title **LINK UPDATED! Feel free to  use ! First:**\n",
        "#@markdown Play it and wait until finished!\n",
        "! wget https://raw.githubusercontent.com/ThuongHai/thuonghai/master/CRD_COLAB_EXE.sh &> /dev/null\n",
        "! chmod +x CRD_COLAB_EXE.sh\n",
        "! ./CRD_COLAB_EXE.sh\n",
        "! sleep 43200"
      ],
      "execution_count": null,
      "outputs": [
        {
          "output_type": "stream",
          "text": [
            "\u001b[H\u001b[2J\u001b[36m\u001b[1m\n",
            "      _____      _       _         _    _            _  \n",
            "     / ____|    | |     | |       | |  | |          | | \n",
            "    | |     ___ | | __ _| |__     | |__| | __ _  ___| | _____ \n",
            "    | |    / _ \\| |/ _` | '_ \\    |  __  |/ _` |/ __| |/ / __|\n",
            "    | |___| (_) | | (_| | |_) |   | |  | | (_| | (__|   <\\__ \\\n",
            "     \\_____\\___/|_|\\__,_|_.__/    |_|  |_|\\__,_|\\___|_|\\_\\___/ \n",
            "    \u001b[31m  By Pradyumna Krishna © 2020 \u001b[36m Edited by https://fb.com/thuong.hai.581 (v3)\n",
            "      Github : https://github.com/PradyumnaKrishna/Colab-Hacks          \n",
            "\u001b[0m\u001b[0m\n",
            "\n",
            "Creating user \ruser created \u001b[0m\u001b[0m\n",
            "Adding user `user' to group `sudo' ...\n",
            "Adding user user to group sudo\n",
            "Done.\n",
            "\n",
            "\n",
            "\u001b[32m\u001b[1m    Installer Loaded \u001b[0m\u001b[0m\n",
            "\n",
            "\u001b[36m\u001b[1m    Chrome Remote Desktop Installed \u001b[0m\u001b[0m\n",
            "\u001b[36m\u001b[1m    Desktop Environment Installed \u001b[0m\u001b[0m\n",
            "\u001b[36m\u001b[1m    Google Chrome Installed \u001b[0m\u001b[0m\n",
            "\u001b[36m\u001b[1m    CrossOver Installed \u001b[0m\u001b[0m\n",
            "\u001b[36m\u001b[1m    OBS-Studio Installed \u001b[0m\u001b[0m\n",
            "\u001b[36m\u001b[1m    VLC Media Player Installed \u001b[0m\u001b[0m\n",
            "\u001b[36m\u001b[1m    Other Tools Installed \u001b[0m\u001b[0m\n",
            "\n",
            "\u001b[32m\u001b[1m    Installation Completed \u001b[0m\u001b[0m\n",
            "\n",
            "Adding user `user' to group `chrome-remote-desktop' ...\n",
            "Adding user user to group chrome-remote-desktop\n",
            "Done.\n",
            "\n",
            "Visit http://remotedesktop.google.com/headless and Copy the command after authentication\n",
            "Paste Command: DISPLAY= /opt/google/chrome-remote-desktop/start-host --code=\"4/0AY0e-g6FdRI02OtXf5wcOwBnb_AazudvMgr2oH_UV8AjM5EC2gTrsUJG0iRiuaF34z0q_A\" --redirect-url=\"https://remotedesktop.google.com/_/oauthredirect\" --name=$(hostname)\n",
            "Enter a PIN of at least six digits: \n",
            "Enter the same PIN again: \n",
            "[0103/144012.431181:ERROR:cert_verify_proc_builtin.cc(559)] No net_fetcher for performing AIA chasing.\n",
            "[0103/144012.492134:WARNING:host_config.cc(54)] Failed to read /home/user/.config/chrome-remote-desktop/host#163ce5ea7e9e462195a85312ac616eb3.json\n",
            "[0103/144012.591370:ERROR:cert_verify_proc_builtin.cc(559)] No net_fetcher for performing AIA chasing.\n",
            "[0103/144013.212552:INFO:daemon_controller_delegate_linux.cc(99)] 2021-01-03 14:40:13,202:INFO:User 'user' is already a member of 'chrome-remote-desktop'.\n",
            "\n",
            "[0103/144014.682819:INFO:daemon_controller_delegate_linux.cc(99)] [0103/144013.324577:INFO:remoting_user_session.cc(754)] Daemon process started in the background, logging to '/tmp/chrome_remote_desktop_20210103_144013_yApUJK'\n",
            "Using host_id: def5182e-27db-452a-b25c-ca91cff6ba67\n",
            "Launching X server and X session.\n",
            "Starting Xvfb on display :20\n",
            "X server is active.\n",
            "Launching X session: ['/bin/sh', '/etc/chrome-remote-desktop-session']\n",
            "Launching host process\n",
            "['/opt/google/chrome-remote-desktop/chrome-remote-desktop-host', '--host-config=-', '--audio-pipe-name=/home/user/.config/chrome-remote-desktop/pulseaudio#163ce5ea7e/fifo_output', '--server-supports-exact-resize', '--ssh-auth-sockname=/tmp/chromoting.user.ssh_auth_sock', '--signal-parent']\n",
            "Host ready to receive connections.\n",
            "Log file: /tmp/chrome_remote_desktop_20210103_144013_yApUJK\n",
            "\n",
            "\n",
            "\u001b[36m\u001b[1m I hope everthing done correctly if mistakenly wrote wrong command or pin, Rerun the current box or run command 'su - user -c '<CRP Command Here>' \u001b[0m\u001b[0m\n",
            "\n",
            "\u001b[32m\u001b[1m Finished Succesfully\u001b[0m\u001b[0m"
          ],
          "name": "stdout"
        }
      ]
    },
    {
      "cell_type": "code",
      "metadata": {
        "cellView": "form",
        "id": "JLHA-zydc-gV"
      },
      "source": [
        "#@title **SECOND (Optional):**\r\n",
        "#@markdown Anti shutdown colab (play and keep this colab tab open):\r\n",
        "! sleep 43200"
      ],
      "execution_count": null,
      "outputs": []
    }
  ]
}